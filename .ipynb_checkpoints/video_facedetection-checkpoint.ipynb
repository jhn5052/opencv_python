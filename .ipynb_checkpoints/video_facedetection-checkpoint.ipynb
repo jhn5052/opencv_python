{
 "cells": [
  {
   "cell_type": "code",
   "execution_count": 1,
   "metadata": {},
   "outputs": [
    {
     "ename": "IndexError",
     "evalue": "",
     "output_type": "error",
     "traceback": [
      "\u001b[1;31m---------------------------------------------------------------------------\u001b[0m",
      "\u001b[1;31mIndexError\u001b[0m                                Traceback (most recent call last)",
      "\u001b[1;32m<ipython-input-1-2dc04e1ccff1>\u001b[0m in \u001b[0;36m<module>\u001b[1;34m\u001b[0m\n\u001b[0;32m     25\u001b[0m     \u001b[1;31m#detect faces\u001b[0m\u001b[1;33m\u001b[0m\u001b[1;33m\u001b[0m\u001b[1;33m\u001b[0m\u001b[0m\n\u001b[0;32m     26\u001b[0m     \u001b[0mfaces\u001b[0m \u001b[1;33m=\u001b[0m \u001b[0mdetector\u001b[0m\u001b[1;33m(\u001b[0m\u001b[0mimg\u001b[0m\u001b[1;33m)\u001b[0m\u001b[1;33m\u001b[0m\u001b[1;33m\u001b[0m\u001b[0m\n\u001b[1;32m---> 27\u001b[1;33m     \u001b[0mface\u001b[0m \u001b[1;33m=\u001b[0m \u001b[0mfaces\u001b[0m\u001b[1;33m[\u001b[0m\u001b[1;36m0\u001b[0m\u001b[1;33m]\u001b[0m\u001b[1;31m#face몇개\u001b[0m\u001b[1;33m\u001b[0m\u001b[1;33m\u001b[0m\u001b[0m\n\u001b[0m\u001b[0;32m     28\u001b[0m \u001b[1;33m\u001b[0m\u001b[0m\n\u001b[0;32m     29\u001b[0m     \u001b[0mdlib_shape\u001b[0m \u001b[1;33m=\u001b[0m \u001b[0mpredictor\u001b[0m\u001b[1;33m(\u001b[0m\u001b[0mimg\u001b[0m\u001b[1;33m,\u001b[0m\u001b[0mface\u001b[0m\u001b[1;33m)\u001b[0m \u001b[1;31m#img의 face영역 안의 얼굴 특징점 찾기\u001b[0m\u001b[1;33m\u001b[0m\u001b[1;33m\u001b[0m\u001b[0m\n",
      "\u001b[1;31mIndexError\u001b[0m: "
     ]
    }
   ],
   "source": [
    "import cv2, dlib, sys\n",
    "import numpy as np\n",
    "\n",
    "scaler = 0.3\n",
    "cam = cv2.VideoCapture(0)\n",
    "cam.set(3,1280)\n",
    "cam.set(4,720)\n",
    "detector = dlib.get_frontal_face_detector()#얼굴 디렉터 모듈 초기화\n",
    "predictor = dlib.shape_predictor('shape_predictor_68_face_landmarks.dat')\n",
    "\n",
    "#load video\n",
    "#cap = cv2. VideoCapture(0)\n",
    "\n",
    "while True:\n",
    "    ret_val, img = cam.read()\n",
    "    #cv2.imread(file, cv2.IMREAD_NUMCHANGED) -> file이미지를 BGRA타입으로 읽기\n",
    "\n",
    "    ret,img = cam.read()\n",
    "    if not ret_val:\n",
    "        break;\n",
    "        \n",
    "    img = cv2.resize(img, (int(img.shape[1] * scaler), int(img.shape[0] * scaler)))#동영상 사이즈 너무 커서 resize\n",
    "    ori = img.copy()\n",
    "    \n",
    "    #detect faces\n",
    "    faces = detector(img)\n",
    "    face = faces[0]#face몇개\n",
    "    \n",
    "    dlib_shape = predictor(img,face) #img의 face영역 안의 얼굴 특징점 찾기\n",
    "    shape_2d = np.array([[p.x,p.y] for p in dlib_shape.parts()]) #연산 쉽게하기 위함\n",
    "    \n",
    "    #compute center and boundaries of face \n",
    "    #특징점찾은 이유 : 얼굴의 좌상단, 우하단, 얼굴의 사이즈, 중심 구하기\n",
    "    top_left = np.min(shape_2d, axis=0)\n",
    "    bottom_right = np.max(shape_2d, axis=0)\n",
    "   \n",
    "    #우하단에서 좌상단 좌표를 뺀 (x,y 길이의 가장 긴 값)\n",
    "    face_size = int(max(bottom_right - top_left)*2.5)\n",
    "    \n",
    "    \n",
    "    #모든 특징점의 평균 구해서 얼굴 중앙 찾기 : np.mean()\n",
    "    center_x, center_y = np.mean(shape_2d,axis=0).astype(np.int)\n",
    "    #소수점일수도 있어서 int형으로 변경 : np.astype(np.int) \n",
    "    \n",
    "    #visualize\n",
    "    img = cv2.rectangle(img, pt1=(face.left(), face.top()), pt2=(face.right(), face.bottom()), color=(255,255,255),thickness=2, lineType=cv2.LINE_AA)\n",
    "    \n",
    "    for s in shape_2d: #얼굴 특징점 68개\n",
    "        cv2.circle(img, center=tuple(s), radius=1, color=(255,255,255), thickness=2, lineType=cv2.LINE_AA)\n",
    "    \n",
    "    #특징점으로 만든 얼굴의 사이즈 -> 원그리기\n",
    "    cv2.circle(img, center=tuple(top_left), radius=1, color=(255,0,0), thickness=2, lineType=cv2.LINE_AA)\n",
    "    cv2.circle(img, center=tuple(bottom_right), radius=1, color=(255,0,0), thickness=2, lineType=cv2.LINE_AA)\n",
    "    cv2.circle(img, center=tuple((center_x, center_y)), radius=1, color=(0,0, 255), thickness=2, lineType=cv2.LINE_AA)\n",
    "    \n",
    "    \n",
    "    cv2.imshow('video',img)\n",
    "    if cv2.waitKey(1) == 27:\n",
    "        break"
   ]
  },
  {
   "cell_type": "code",
   "execution_count": null,
   "metadata": {},
   "outputs": [],
   "source": []
  }
 ],
 "metadata": {
  "kernelspec": {
   "display_name": "Python 3",
   "language": "python",
   "name": "python3"
  },
  "language_info": {
   "codemirror_mode": {
    "name": "ipython",
    "version": 3
   },
   "file_extension": ".py",
   "mimetype": "text/x-python",
   "name": "python",
   "nbconvert_exporter": "python",
   "pygments_lexer": "ipython3",
   "version": "3.7.1"
  }
 },
 "nbformat": 4,
 "nbformat_minor": 2
}
