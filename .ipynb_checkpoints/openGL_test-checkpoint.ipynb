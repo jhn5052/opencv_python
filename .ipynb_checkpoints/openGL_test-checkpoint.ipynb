{
 "cells": [
  {
   "cell_type": "code",
   "execution_count": 1,
   "metadata": {},
   "outputs": [
    {
     "name": "stdout",
     "output_type": "stream",
     "text": [
      "pygame 1.9.5\n",
      "Hello from the pygame community. https://www.pygame.org/contribute.html\n"
     ]
    },
    {
     "ename": "GLError",
     "evalue": "GLError(\n\terr = 1282,\n\tdescription = b'invalid operation',\n\tbaseOperation = glClear,\n\tcArguments = (16640,)\n)",
     "output_type": "error",
     "traceback": [
      "\u001b[1;31m---------------------------------------------------------------------------\u001b[0m",
      "\u001b[1;31mGLError\u001b[0m                                   Traceback (most recent call last)",
      "\u001b[1;32m<ipython-input-1-ce6e4aabc0d8>\u001b[0m in \u001b[0;36m<module>\u001b[1;34m\u001b[0m\n\u001b[0;32m     62\u001b[0m         \u001b[0mpygame\u001b[0m\u001b[1;33m.\u001b[0m\u001b[0mtime\u001b[0m\u001b[1;33m.\u001b[0m\u001b[0mwait\u001b[0m\u001b[1;33m(\u001b[0m\u001b[1;36m10\u001b[0m\u001b[1;33m)\u001b[0m\u001b[1;33m\u001b[0m\u001b[1;33m\u001b[0m\u001b[0m\n\u001b[0;32m     63\u001b[0m \u001b[1;33m\u001b[0m\u001b[0m\n\u001b[1;32m---> 64\u001b[1;33m \u001b[0mmyOpenGL\u001b[0m\u001b[1;33m(\u001b[0m\u001b[1;33m)\u001b[0m\u001b[1;33m\u001b[0m\u001b[1;33m\u001b[0m\u001b[0m\n\u001b[0m",
      "\u001b[1;32m<ipython-input-1-ce6e4aabc0d8>\u001b[0m in \u001b[0;36mmyOpenGL\u001b[1;34m()\u001b[0m\n\u001b[0;32m     57\u001b[0m \u001b[1;33m\u001b[0m\u001b[0m\n\u001b[0;32m     58\u001b[0m         \u001b[1;31m#glRotatef(1,3,1,1)\u001b[0m\u001b[1;33m\u001b[0m\u001b[1;33m\u001b[0m\u001b[1;33m\u001b[0m\u001b[0m\n\u001b[1;32m---> 59\u001b[1;33m         \u001b[0mglClear\u001b[0m\u001b[1;33m(\u001b[0m\u001b[0mGL_COLOR_BUFFER_BIT\u001b[0m \u001b[1;33m|\u001b[0m \u001b[0mGL_DEPTH_BUFFER_BIT\u001b[0m\u001b[1;33m)\u001b[0m\u001b[1;33m\u001b[0m\u001b[1;33m\u001b[0m\u001b[0m\n\u001b[0m\u001b[0;32m     60\u001b[0m         \u001b[0mdrawCube\u001b[0m\u001b[1;33m(\u001b[0m\u001b[1;33m)\u001b[0m\u001b[1;33m\u001b[0m\u001b[1;33m\u001b[0m\u001b[0m\n\u001b[0;32m     61\u001b[0m         \u001b[0mpygame\u001b[0m\u001b[1;33m.\u001b[0m\u001b[0mdisplay\u001b[0m\u001b[1;33m.\u001b[0m\u001b[0mflip\u001b[0m\u001b[1;33m(\u001b[0m\u001b[1;33m)\u001b[0m\u001b[1;33m\u001b[0m\u001b[1;33m\u001b[0m\u001b[0m\n",
      "\u001b[1;32mc:\\users\\jhn50\\miniconda3\\lib\\site-packages\\OpenGL\\error.py\u001b[0m in \u001b[0;36mglCheckError\u001b[1;34m(self, result, baseOperation, cArguments, *args)\u001b[0m\n\u001b[0;32m    230\u001b[0m                         \u001b[0mresult\u001b[0m\u001b[1;33m,\u001b[0m\u001b[1;33m\u001b[0m\u001b[1;33m\u001b[0m\u001b[0m\n\u001b[0;32m    231\u001b[0m                         \u001b[0mcArguments\u001b[0m \u001b[1;33m=\u001b[0m \u001b[0mcArguments\u001b[0m\u001b[1;33m,\u001b[0m\u001b[1;33m\u001b[0m\u001b[1;33m\u001b[0m\u001b[0m\n\u001b[1;32m--> 232\u001b[1;33m                         \u001b[0mbaseOperation\u001b[0m \u001b[1;33m=\u001b[0m \u001b[0mbaseOperation\u001b[0m\u001b[1;33m,\u001b[0m\u001b[1;33m\u001b[0m\u001b[1;33m\u001b[0m\u001b[0m\n\u001b[0m\u001b[0;32m    233\u001b[0m                     )\n\u001b[0;32m    234\u001b[0m                 \u001b[1;32mreturn\u001b[0m \u001b[0mresult\u001b[0m\u001b[1;33m\u001b[0m\u001b[1;33m\u001b[0m\u001b[0m\n",
      "\u001b[1;31mGLError\u001b[0m: GLError(\n\terr = 1282,\n\tdescription = b'invalid operation',\n\tbaseOperation = glClear,\n\tcArguments = (16640,)\n)"
     ]
    }
   ],
   "source": [
    "import pygame\n",
    "from pygame.locals import *\n",
    "from OpenGL.GL import *\n",
    "from OpenGL.GLU import *\n",
    "\n",
    "colors =((1,0,0),\n",
    "         (0,1,0),\n",
    "         (0,0,1),\n",
    "         (0,1,0))\n",
    "\n",
    "surfaces=((0,1,1,1),\n",
    "          (1,1,1,1),\n",
    "          (1,1,1,1),\n",
    "          (4,5,1,0),\n",
    "          (1,5,7,2),\n",
    "          (4,0,3,6))\n",
    "\n",
    "vertices =((1,-1,-1),(1,1,-1),\n",
    "           (-1,1,-1),(-1,-1,-1),\n",
    "           (1,-1,1),(1,1,1),\n",
    "           (-1,-1,1),(-1,1,1))\n",
    "\n",
    "edges = ((0,1),(0,3),(0,4),\n",
    "      (2,1),(2,3),(2,7),\n",
    "      (6,3),(6,4),(6,7),\n",
    "      (5,1),(5,4),(5,7))\n",
    "\n",
    "def drawCube():\n",
    "    glBegin(GL_QUADS)\n",
    "    for surface in surfaces:\n",
    "        x = 0\n",
    "        for vertex in surface:\n",
    "            glColor3fv(colors[x])\n",
    "            glVertex3fv(vertices[vertex])\n",
    "            x += 1\n",
    "    glEnd()\n",
    "\n",
    "    glBegin(GL_LINES)\n",
    "    for edge in edges:\n",
    "        for vertex in edge:\n",
    "            glVertex3fv(vertices[vertex])\n",
    "    glEnd()\n",
    "\n",
    "def myOpenGL():\n",
    "    pygame.init()\n",
    "    display = (800,600)\n",
    "    pygame.display.set_mode(display,DOUBLEBUF | OPENGL)\n",
    "\n",
    "    gluPerspective(45,(display[0]/display[1]),0.1,50.0)\n",
    "    glTranslatef(0.0,0.0,-7)\n",
    "\n",
    "    while True:\n",
    "        for event in pygame.event.get():\n",
    "            if event.type == pygame.QUIT:\n",
    "                pygame.quit()\n",
    "                quit()\n",
    "\n",
    "        #glRotatef(1,3,1,1)\n",
    "        glClear(GL_COLOR_BUFFER_BIT | GL_DEPTH_BUFFER_BIT)\n",
    "        drawCube()\n",
    "        pygame.display.flip()\n",
    "        pygame.time.wait(10)\n",
    "\n",
    "myOpenGL()"
   ]
  },
  {
   "cell_type": "code",
   "execution_count": null,
   "metadata": {},
   "outputs": [],
   "source": []
  }
 ],
 "metadata": {
  "kernelspec": {
   "display_name": "Python 3",
   "language": "python",
   "name": "python3"
  },
  "language_info": {
   "codemirror_mode": {
    "name": "ipython",
    "version": 3
   },
   "file_extension": ".py",
   "mimetype": "text/x-python",
   "name": "python",
   "nbconvert_exporter": "python",
   "pygments_lexer": "ipython3",
   "version": "3.7.1"
  }
 },
 "nbformat": 4,
 "nbformat_minor": 2
}
